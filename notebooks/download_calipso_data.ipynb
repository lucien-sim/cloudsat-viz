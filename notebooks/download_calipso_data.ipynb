{
 "cells": [
  {
   "cell_type": "markdown",
   "metadata": {},
   "source": [
    "# Download CALIPSO files via FTP"
   ]
  },
  {
   "cell_type": "markdown",
   "metadata": {},
   "source": [
    "## Step 1: Order CALIPSO files\n",
    "1. Set up an account with the [NASA EarthData system](https://urs.earthdata.nasa.gov/home)\n",
    "1. Use [this page](CALIPSO Search and Subset Tool) to order the desired data. \n",
    "   * Products: Level 1 (Atmospheric, 532 nm calibration/backscatter, 1064 nm calibration/backscatter), Level 2 (Vertical Feature Mask: Layer Information). "
   ]
  },
  {
   "cell_type": "markdown",
   "metadata": {},
   "source": [
    "## Step 2: Download the files you ordered\n",
    "1. You'll receive an email when your requested data becomes available. This email will contain a FTP address, which is where all of the requested files will be stored. \n",
    "1. Enter FTP address and destination directory for the downloaded files below. \n",
    "1. Use the custom function to download all of the data to the destination directory. "
   ]
  },
  {
   "cell_type": "code",
   "execution_count": 3,
   "metadata": {},
   "outputs": [],
   "source": [
    "import os\n",
    "\n",
    "def download_ftp_calipso(ftp_url,dest_path): \n",
    "    \"\"\"Downloads the specified files via FTP.\"\"\"\n",
    "    wget_cmd  = 'wget -nc -nd -P '+dest_path+' '+ftp_url\n",
    "    os.system(wget_cmd)\n",
    "    return None"
   ]
  },
  {
   "cell_type": "code",
   "execution_count": 5,
   "metadata": {},
   "outputs": [],
   "source": [
    "#data_path = os.path.join('/','Users','Lucien','Documents','cloudsat_project','data')\n",
    "data_path = os.path.join('/','Volumes','DataPics','cloudsat_project','data')\n",
    "ftp_url   = 'ftp://xfr139.larc.nasa.gov/sflops/Distribution/2019183112143_43051/*'\n",
    "dest_path = os.path.join(data_path,'calipso')\n",
    "\n",
    "download_ftp_calipso(ftp_url,dest_path)"
   ]
  }
 ],
 "metadata": {
  "kernelspec": {
   "display_name": "Python 3",
   "language": "python",
   "name": "python3"
  },
  "language_info": {
   "codemirror_mode": {
    "name": "ipython",
    "version": 3
   },
   "file_extension": ".py",
   "mimetype": "text/x-python",
   "name": "python",
   "nbconvert_exporter": "python",
   "pygments_lexer": "ipython3",
   "version": "3.6.7"
  }
 },
 "nbformat": 4,
 "nbformat_minor": 2
}
