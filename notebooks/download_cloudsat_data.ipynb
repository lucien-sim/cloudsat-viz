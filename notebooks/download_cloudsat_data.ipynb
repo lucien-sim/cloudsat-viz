{
 "cells": [
  {
   "cell_type": "markdown",
   "metadata": {},
   "source": [
    "# Download CloudSat files via FTP"
   ]
  },
  {
   "cell_type": "markdown",
   "metadata": {},
   "source": [
    "## Step 1: Order CloudSat files\n",
    "1. Set up an account with the [CloudSat Data Processing Center](http://www.cloudsat.cira.colostate.edu/)\n",
    "1. Use [this page](http://www.cloudsat.cira.colostate.edu/order-data) to order the desired data. \n",
    "   * Products: 2B-CLDCLASS.P1_RO5, 2B-CWC-RO.P1_R05, 2B-GEOPROF.P1_R05"
   ]
  },
  {
   "cell_type": "markdown",
   "metadata": {},
   "source": [
    "## Step 2: Download the files you ordered\n",
    "1. You'll receive an email when your requested data becomes available. This email will contain a FTP address, which is where all of the requested files will be stored. \n",
    "1. Enter FTP address, username, password, and destination directory for the downloaded files below. \n",
    "1. Use the custom function to download all of the data to the destination directory. "
   ]
  },
  {
   "cell_type": "code",
   "execution_count": 15,
   "metadata": {},
   "outputs": [],
   "source": [
    "import os\n",
    "\n",
    "def download_ftp_cloudsat(ftp_url,usr,pwd,dest_path): \n",
    "    \"\"\"Downloads the specified files via FTP.\"\"\"\n",
    "    wget_cmd  = 'wget -nc -nd -P '+dest_path+' --user='+usr+' --password='+pwd+' '+ftp_url\n",
    "    os.system(wget_cmd)\n",
    "    return None"
   ]
  },
  {
   "cell_type": "code",
   "execution_count": null,
   "metadata": {},
   "outputs": [],
   "source": [
    "data_path = os.path.join('/', 'Volumes', 'DataPics', \n",
    "                         'cloudsat_project', 'data')\n",
    "ftp_url = 'ftp://ftp1.cloudsat.cira.colostate.edu/.orders/.5d164bf23187fd351f5e3e10/*'\n",
    "usr = 'lucien_simpfendoerfer'\n",
    "pwd = 'yRKD@H5c5Llw'\n",
    "dest_path = os.path.join(data_path,'cloudsat')\n",
    "download_ftp_cloudsat(ftp_url,usr,pwd,dest_path)"
   ]
  }
 ],
 "metadata": {
  "kernelspec": {
   "display_name": "Python 3",
   "language": "python",
   "name": "python3"
  },
  "language_info": {
   "codemirror_mode": {
    "name": "ipython",
    "version": 3
   },
   "file_extension": ".py",
   "mimetype": "text/x-python",
   "name": "python",
   "nbconvert_exporter": "python",
   "pygments_lexer": "ipython3",
   "version": "3.6.7"
  }
 },
 "nbformat": 4,
 "nbformat_minor": 2
}
