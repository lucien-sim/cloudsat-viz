{
 "cells": [
  {
   "cell_type": "markdown",
   "metadata": {},
   "source": [
    "# Download ERA5 Data"
   ]
  },
  {
   "cell_type": "code",
   "execution_count": 1,
   "metadata": {},
   "outputs": [],
   "source": [
    "import cdsapi\n",
    "import os\n",
    "\n",
    "def download_era5_data(year,month,days,hours,data_path): \n",
    "    \"\"\"Downloads data for the specified days and hours in a given year/month.\"\"\"\n",
    "\n",
    "    c = cdsapi.Client()\n",
    "\n",
    "    for day in days: \n",
    "\n",
    "        atmos_fname = os.path.join(data_path,\"ERA5\",\"ERA5_atmospheric_vbls_\"+year+month+day+\".nc\")\n",
    "        slvl_fname  = os.path.join(data_path,\"ERA5\",\"ERA5_singlelevel_vbls_\"+year+month+day+\".nc\")\n",
    "\n",
    "        c.retrieve(\"reanalysis-era5-pressure-levels\", {\n",
    "                \"product_type\":   \"reanalysis\",\n",
    "                \"format\":         \"netcdf\",\n",
    "                \"area\":           \"90.00/-180.00/60.00/180.00\",\n",
    "                \"variable\":       ['geopotential','specific_cloud_ice_water_content',\n",
    "                                   'specific_cloud_liquid_water_content', 'specific_humidity',\n",
    "                                   'temperature','u_component_of_wind',\n",
    "                                   'v_component_of_wind','vertical_velocity'],\n",
    "                \"pressure_level\": [\"850\",\"700\"],\n",
    "                \"year\":           year,\n",
    "                \"month\":          month,\n",
    "                \"day\":            day,\n",
    "                \"time\":           hours\n",
    "            }, atmos_fname)\n",
    "\n",
    "        c.retrieve('reanalysis-era5-single-levels', {\n",
    "            'product_type':   'reanalysis',\n",
    "            'format':         'netcdf',\n",
    "            'area':           '90.00/-180.00/60.00/180.00',\n",
    "            'variable':       ['2m_dewpoint_temperature','2m_temperature',\n",
    "                               'mean_sea_level_pressure','surface_pressure'],\n",
    "            'year':           year,\n",
    "            'month':          month,\n",
    "            'day':            day,\n",
    "            'time':           hours\n",
    "        }, slvl_fname)\n",
    "        \n",
    "    return None\n"
   ]
  },
  {
   "cell_type": "code",
   "execution_count": 6,
   "metadata": {},
   "outputs": [],
   "source": [
    "data_path = os.path.join('/','Users','Lucien','Documents','cloudsat_project','data')\n",
    "\n",
    "year = \"2015\"\n",
    "month = \"09\"\n",
    "days = [\"01\",\"02\",\"03\",\"04\",\"05\",\"06\",\"07\",\"08\",\"09\",\"10\",\"11\",\n",
    "       \"12\",\"13\",\"14\",\"15\",\"16\",\"17\",\"18\",\"19\",\"20\",\"21\",\"22\",\n",
    "       \"23\",\"24\",\"25\",\"26\",\"27\",\"28\",\"29\",\"30\"]\n",
    "hours = [\"00\",\"01\",\"02\",\"03\",\"04\",\"05\",\"06\",\"07\",\"08\",\"09\",\"10\",\"11\",\n",
    "        \"12\",\"13\",\"14\",\"15\",\"16\",\"17\",\"18\",\"19\",\"20\",\"21\",\"22\",\n",
    "        \"23\"]\n",
    "\n",
    "download_era5_data(year,month,days,hours,data_path)"
   ]
  }
 ],
 "metadata": {
  "kernelspec": {
   "display_name": "Python 3",
   "language": "python",
   "name": "python3"
  },
  "language_info": {
   "codemirror_mode": {
    "name": "ipython",
    "version": 3
   },
   "file_extension": ".py",
   "mimetype": "text/x-python",
   "name": "python",
   "nbconvert_exporter": "python",
   "pygments_lexer": "ipython3",
   "version": "3.6.7"
  }
 },
 "nbformat": 4,
 "nbformat_minor": 2
}
